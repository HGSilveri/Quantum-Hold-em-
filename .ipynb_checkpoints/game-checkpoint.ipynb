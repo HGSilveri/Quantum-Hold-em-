{
 "cells": [
  {
   "cell_type": "code",
   "execution_count": 1,
   "metadata": {},
   "outputs": [
    {
     "name": "stdout",
     "output_type": "stream",
     "text": [
      "pygame 1.9.6\n",
      "Hello from the pygame community. https://www.pygame.org/contribute.html\n"
     ]
    }
   ],
   "source": [
    "import PySimpleGUI as sg\n",
    "\n",
    "sg.Window('My window').Layout([[ sg.Image('circuit.png') ]]).Read()\n",
    "\n",
    "application.quit()"
   ]
  },
  {
   "cell_type": "code",
   "execution_count": 23,
   "metadata": {},
   "outputs": [
    {
     "name": "stdout",
     "output_type": "stream",
     "text": [
      "None {'_IN_': None}\n"
     ]
    }
   ],
   "source": [
    "import PySimpleGUI as sg\n",
    "\n",
    "\n",
    "column = col = [[sg.Text('Gate Arena')],\n",
    "       [sg.Text('Player 0'), sg.Input(key='_0_',size=(5,1))],\n",
    "       [sg.Text('Player 1'), sg.Input(key='_1_',size=(5,1))],\n",
    " \n",
    "\n",
    "image = 'circuit.png'\n",
    "layout = [[ sg.Image(image, key='_CHANGE_') ],\n",
    "\n",
    "          [ sg.Image('graph.png', key='_GRAPH_'), sg.Input(key='_IN_',size=(5,1)), sg.Button('Play')], \n",
    "          [sg.Button('Exit')]]\n",
    "\n",
    "window = sg.Window('Window Title', layout)\n",
    "\n",
    "while True:  # Event Loop\n",
    "    event, values = window.Read()\n",
    "    print(event, values)\n",
    "    if event is None or event == 'Exit':\n",
    "        break\n",
    "    if event == 'Play':\n",
    "        # Update the \"output\" element to be the value of \"input\" element\n",
    "        window.Element('_CHANGE_').Update('circuit.png')\n",
    "\n",
    "window.Close()"
   ]
  },
  {
   "cell_type": "code",
   "execution_count": null,
   "metadata": {},
   "outputs": [],
   "source": [
    "import PySimpleGUI as sg\n",
    "\n",
    "layout = [\n",
    "            [sg.Text('Please enter your Name, Address, Phone')],\n",
    "            [sg.Text('Name', size=(15, 1)), sg.InputText('1', key='_NAME_')],\n",
    "            [sg.Text('Address', size=(15, 1)), sg.InputText('2', key='_ADDRESS_')],\n",
    "            [sg.Text('Phone', size=(15, 1)), sg.InputText('3', key='_PHONE_')],\n",
    "            [sg.Submit(), sg.Cancel()]\n",
    "            ]\n",
    "\n",
    "window = sg.Window('Simple data entry window', layout)\n",
    "event, values = window.Read()\n",
    "window.Close()"
   ]
  }
 ],
 "metadata": {
  "kernelspec": {
   "display_name": "Python 3",
   "language": "python",
   "name": "python3"
  },
  "language_info": {
   "codemirror_mode": {
    "name": "ipython",
    "version": 3
   },
   "file_extension": ".py",
   "mimetype": "text/x-python",
   "name": "python",
   "nbconvert_exporter": "python",
   "pygments_lexer": "ipython3",
   "version": "3.7.4"
  }
 },
 "nbformat": 4,
 "nbformat_minor": 2
}
