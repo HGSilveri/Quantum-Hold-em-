{
 "cells": [
  {
   "cell_type": "code",
   "execution_count": 98,
   "metadata": {},
   "outputs": [],
   "source": [
    "import numpy as np\n",
    "from qiskit import *\n",
    "%matplotlib inline\n",
    "from qiskit.visualization import plot_histogram\n",
    "from qiskit.tools.visualization import circuit_drawer\n",
    "from qiskit.circuit import Gate"
   ]
  },
  {
   "cell_type": "code",
   "execution_count": 7,
   "metadata": {},
   "outputs": [],
   "source": [
    "def apply_gate(circuit,gate_str,applied,ctrl=0):\n",
    "    if gate_str == 'H':\n",
    "        circuit.h(applied)\n",
    "    elif gate_str == 'HZ':\n",
    "        circuit.z(applied)\n",
    "        circuit.h(applied)\n",
    "    elif gate_str == 'X':\n",
    "        circuit.x(applied)\n",
    "    elif gate_str == 'Z':\n",
    "        circuit.z(applied)\n",
    "    elif gate_str == 'CX':\n",
    "        circuit.cx(ctrl,applied)\n",
    "    elif gate_str == 'I':\n",
    "        pass\n",
    "    return circuit"
   ]
  },
  {
   "cell_type": "code",
   "execution_count": 88,
   "metadata": {},
   "outputs": [],
   "source": [
    "gates_lists = ['H', 'HZ', 'X', 'Z', 'CX'] + 3*['I']\n",
    "\n",
    "def generate_subcircuit(no_qubits):\n",
    "    circuit = QuantumCircuit(no_qubits)\n",
    "    for q in range(no_qubits):\n",
    "        gate = np.random.choice(gates_lists)\n",
    "        ctrl = 0\n",
    "        if gate == 'CX':\n",
    "            list_qubits = list(range(no_qubits))\n",
    "            list_qubits.pop(q)\n",
    "            ctrl = np.random.choice(list_qubits)\n",
    "        apply_gate(circuit, gate, q, ctrl)\n",
    "    circuit.barrier()\n",
    "    return circuit"
   ]
  },
  {
   "cell_type": "code",
   "execution_count": 90,
   "metadata": {},
   "outputs": [
    {
     "data": {
      "text/html": [
       "<pre style=\"word-wrap: normal;white-space: pre;background: #fff0;line-height: 1.1;font-family: &quot;Courier New&quot;,Courier,monospace\">        ┌───┐ ░ \n",
       "q_0: |0>┤ H ├─░─\n",
       "        └───┘ ░ \n",
       "q_1: |0>──────░─\n",
       "              ░ </pre>"
      ],
      "text/plain": [
       "<qiskit.visualization.text.TextDrawing at 0x11bd85080>"
      ]
     },
     "execution_count": 90,
     "metadata": {},
     "output_type": "execute_result"
    }
   ],
   "source": [
    "circuit = generate_subcircuit(2)\n",
    "circuit.draw()"
   ]
  },
  {
   "cell_type": "code",
   "execution_count": 94,
   "metadata": {},
   "outputs": [],
   "source": [
    "def generate_game(no_qubits, no_rounds):\n",
    "    Circuits = []\n",
    "    Plays = []\n",
    "    \n",
    "    init_circuit = QuantumCircuit(no_qubits)\n",
    "    init_circuit.h(range(no_qubits))\n",
    "    init_circuit.barrier()\n",
    "    Circuits.append(init_circuit)\n",
    "    \n",
    "    for n in range(no_rounds):\n",
    "        qubits_play = np.random.choice(list(range(no_qubits)),2,replace = False)\n",
    "        np.random.shuffle(qubits_play)\n",
    "        play = [('P0',qubits_play[0]), ('P1',qubits_play[1])]      \n",
    "        Plays.append(play)\n",
    "        Circuits.append(generate_subcircuit(no_qubits))\n",
    "    \n",
    "    return Circuits, Plays"
   ]
  },
  {
   "cell_type": "code",
   "execution_count": 119,
   "metadata": {},
   "outputs": [],
   "source": [
    "def draw_game(Circuits, Plays):\n",
    "    final_circ = Circuits[0]\n",
    "    for play, circ in zip(Plays, Circuits[1:]):\n",
    "        for player, qubit in play:\n",
    "            if player in ['P0','P1']:\n",
    "                final_circ.append(Gate(name = player, num_qubits = 1, params = []),[qubit])\n",
    "            else:\n",
    "                final_circ = apply_gate(final_circ,gate_str = player,applied = qubit)\n",
    "        final_circ.barrier()\n",
    "        final_circ = final_circ + circ\n",
    "    print(final_circ.draw())"
   ]
  },
  {
   "cell_type": "code",
   "execution_count": 121,
   "metadata": {},
   "outputs": [
    {
     "name": "stdout",
     "output_type": "stream",
     "text": [
      "        ┌───┐ ░ ┌───┐ ░ ┌───┐┌───┐ ░ ┌────┐ ░ ┌───┐ ░ \n",
      "q_0: |0>┤ H ├─░─┤ H ├─░─┤ Z ├┤ H ├─░─┤ P1 ├─░─┤ Z ├─░─\n",
      "        ├───┤ ░ ├───┤ ░ ├───┤└───┘ ░ ├────┤ ░ └───┘ ░ \n",
      "q_1: |0>┤ H ├─░─┤ X ├─░─┤ Z ├──────░─┤ P0 ├─░───────░─\n",
      "        └───┘ ░ └───┘ ░ └───┘      ░ └────┘ ░       ░ \n"
     ]
    }
   ],
   "source": [
    "Circuits, Plays = generate_game(2,2)\n",
    "Plays[0] = [('X',1),('H',0)]\n",
    "draw_game(Circuits, Plays)"
   ]
  },
  {
   "cell_type": "code",
   "execution_count": 137,
   "metadata": {},
   "outputs": [
    {
     "data": {
      "text/plain": [
       "[[('Z', 1), ('X', 0)], [('P0', 1), ('P1', 0)]]"
      ]
     },
     "execution_count": 137,
     "metadata": {},
     "output_type": "execute_result"
    }
   ],
   "source": [
    "Plays"
   ]
  },
  {
   "cell_type": "code",
   "execution_count": 132,
   "metadata": {},
   "outputs": [],
   "source": [
    "def play_round(n_round,Plays,P0,P1):\n",
    "    Plays[n_round][0] = (P0, Plays[n_round][0][1])\n",
    "    Plays[n_round][1] = (P1, Plays[n_round][1][1])\n",
    "    return Plays"
   ]
  },
  {
   "cell_type": "code",
   "execution_count": 138,
   "metadata": {},
   "outputs": [],
   "source": [
    "def get_played_game(Circuits, Plays):\n",
    "    final_circ = Circuits[0]\n",
    "    for play, circ in zip(Plays, Circuits[1:]):\n",
    "        for player, qubit in play:\n",
    "            if player in ['P0','P1']:\n",
    "                return final_circ\n",
    "            else:\n",
    "                final_circ = apply_gate(final_circ, gate_str = player,applied = qubit)         \n",
    "        final_circ.barrier()\n",
    "        final_circ = final_circ + circ\n",
    "    return final_circ"
   ]
  },
  {
   "cell_type": "code",
   "execution_count": 139,
   "metadata": {},
   "outputs": [
    {
     "data": {
      "text/html": [
       "<pre style=\"word-wrap: normal;white-space: pre;background: #fff0;line-height: 1.1;font-family: &quot;Courier New&quot;,Courier,monospace\">        ┌───┐ ░ ┌───┐ ░ ┌───┐ ░ ┌───┐┌───┐ ░ \n",
       "q_0: |0>┤ H ├─░─┤ H ├─░─┤ X ├─░─┤ Z ├┤ H ├─░─\n",
       "        ├───┤ ░ ├───┤ ░ ├───┤ ░ ├───┤└───┘ ░ \n",
       "q_1: |0>┤ H ├─░─┤ X ├─░─┤ Z ├─░─┤ Z ├──────░─\n",
       "        └───┘ ░ └───┘ ░ └───┘ ░ └───┘      ░ </pre>"
      ],
      "text/plain": [
       "<qiskit.visualization.text.TextDrawing at 0x10471fd68>"
      ]
     },
     "execution_count": 139,
     "metadata": {},
     "output_type": "execute_result"
    }
   ],
   "source": [
    "partial_circ = get_played_game(Circuits, Plays)\n",
    "partial_circ.draw()"
   ]
  },
  {
   "cell_type": "code",
   "execution_count": 141,
   "metadata": {},
   "outputs": [],
   "source": [
    "Plays2 = play_round(1,Plays,'X','X')"
   ]
  },
  {
   "cell_type": "code",
   "execution_count": 142,
   "metadata": {},
   "outputs": [
    {
     "data": {
      "text/html": [
       "<pre style=\"word-wrap: normal;white-space: pre;background: #fff0;line-height: 1.1;font-family: &quot;Courier New&quot;,Courier,monospace\">        ┌───┐ ░ ┌───┐ ░ ┌───┐ ░ ┌───┐ ░ ┌───┐┌───┐ ░ ┌───┐ ░ ┌───┐ ░ \n",
       "q_0: |0>┤ H ├─░─┤ H ├─░─┤ X ├─░─┤ X ├─░─┤ Z ├┤ H ├─░─┤ X ├─░─┤ Z ├─░─\n",
       "        ├───┤ ░ ├───┤ ░ ├───┤ ░ ├───┤ ░ ├───┤└───┘ ░ ├───┤ ░ └───┘ ░ \n",
       "q_1: |0>┤ H ├─░─┤ X ├─░─┤ Z ├─░─┤ Z ├─░─┤ Z ├──────░─┤ X ├─░───────░─\n",
       "        └───┘ ░ └───┘ ░ └───┘ ░ └───┘ ░ └───┘      ░ └───┘ ░       ░ </pre>"
      ],
      "text/plain": [
       "<qiskit.visualization.text.TextDrawing at 0x11cc5b3c8>"
      ]
     },
     "execution_count": 142,
     "metadata": {},
     "output_type": "execute_result"
    }
   ],
   "source": [
    "partial_circ = get_played_game(Circuits, Plays2)\n",
    "partial_circ.draw()"
   ]
  },
  {
   "cell_type": "code",
   "execution_count": 152,
   "metadata": {},
   "outputs": [
    {
     "name": "stdout",
     "output_type": "stream",
     "text": [
      "[-0.5+0.j  0.5+0.j  0.5+0.j -0.5+0.j]\n"
     ]
    }
   ],
   "source": [
    "backend = Aer.get_backend('statevector_simulator')\n",
    "job = execute(partial_circ, backend)\n",
    "result = job.result()\n",
    "state_vector = result.get_statevector(partial_circ, decimals=3)\n",
    "print(state_vector)"
   ]
  },
  {
   "cell_type": "code",
   "execution_count": null,
   "metadata": {},
   "outputs": [],
   "source": [
    "def compute(partial_circuit):\n",
    "    \n",
    "    return state\n",
    "    \n",
    "    "
   ]
  },
  {
   "cell_type": "code",
   "execution_count": 157,
   "metadata": {},
   "outputs": [
    {
     "data": {
      "text/plain": [
       "array([0.25, 0.25, 0.25, 0.25])"
      ]
     },
     "execution_count": 157,
     "metadata": {},
     "output_type": "execute_result"
    }
   ],
   "source": [
    "np.abs(state_vector)**2"
   ]
  },
  {
   "cell_type": "code",
   "execution_count": 167,
   "metadata": {},
   "outputs": [
    {
     "data": {
      "text/plain": [
       "'0b11'"
      ]
     },
     "execution_count": 167,
     "metadata": {},
     "output_type": "execute_result"
    }
   ],
   "source": [
    "bin(3)"
   ]
  },
  {
   "cell_type": "code",
   "execution_count": 175,
   "metadata": {},
   "outputs": [],
   "source": [
    "def score_counts(state_v):\n",
    "    e_ones = 0\n",
    "    for i, p in enumerate(np.abs(state_v)**2):\n",
    "        e_ones += p*np.sum(np.array(list(bin(i)[2:])).astype(np.int))\n",
    "    return e_ones*50"
   ]
  },
  {
   "cell_type": "code",
   "execution_count": 178,
   "metadata": {},
   "outputs": [
    {
     "data": {
      "text/plain": [
       "50.0"
      ]
     },
     "execution_count": 178,
     "metadata": {},
     "output_type": "execute_result"
    }
   ],
   "source": [
    "score_counts([0,1/np.sqrt(2),np.sqrt(0.5),0])"
   ]
  },
  {
   "cell_type": "code",
   "execution_count": null,
   "metadata": {},
   "outputs": [],
   "source": [
    "def scores(state_v):\n",
    "    \n",
    "    "
   ]
  }
 ],
 "metadata": {
  "kernelspec": {
   "display_name": "Python 3",
   "language": "python",
   "name": "python3"
  },
  "language_info": {
   "codemirror_mode": {
    "name": "ipython",
    "version": 3
   },
   "file_extension": ".py",
   "mimetype": "text/x-python",
   "name": "python",
   "nbconvert_exporter": "python",
   "pygments_lexer": "ipython3",
   "version": "3.6.8"
  }
 },
 "nbformat": 4,
 "nbformat_minor": 2
}
